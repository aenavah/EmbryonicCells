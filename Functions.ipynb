{
 "cells": [
  {
   "cell_type": "code",
   "execution_count": null,
   "metadata": {},
   "outputs": [],
   "source": [
    "import os \n",
    "import pandas\n",
    "import numpy\n",
    "import h5py"
   ]
  },
  {
   "cell_type": "markdown",
   "metadata": {},
   "source": [
    "# Notes"
   ]
  },
  {
   "cell_type": "markdown",
   "metadata": {},
   "source": [
    "From email: dox_gata6Compiled_trackObj.csv, nodox_gata6_Compiled_trackObj, dox_cdx2Compiled_trackObj.csv, nodox_cdx2Compiled_trackObj.csv\n",
    "\n",
    "Identify lineage:\n",
    "1. gata6 - primitive endoderm like cells\n",
    "2. cdx2 - trophoblast like cells\n",
    "In either induced (dox) or non-induced control (nodox) condition.\n",
    "\n"
   ]
  },
  {
   "cell_type": "code",
   "execution_count": 183,
   "metadata": {},
   "outputs": [],
   "source": [
    "tracks_folder = \"/Users/alexandranava/Desktop/EmbryonicCells/Data/tracks/\""
   ]
  },
  {
   "cell_type": "markdown",
   "metadata": {},
   "source": [
    "Create list of h5 path directories: \"track_files\""
   ]
  },
  {
   "cell_type": "code",
   "execution_count": 185,
   "metadata": {},
   "outputs": [],
   "source": [
    "track_files: list[str] = []\n",
    "for file in os.listdir(tracks_folder):\n",
    "    track_files.append(tracks_folder + str(file))"
   ]
  },
  {
   "cell_type": "markdown",
   "metadata": {},
   "source": [
    "### h5 File Structure:"
   ]
  },
  {
   "cell_type": "code",
   "execution_count": 186,
   "metadata": {},
   "outputs": [
    {
     "name": "stdout",
     "output_type": "stream",
     "text": [
      "  - objects\n",
      "    - obj_type_1\n",
      "      - coords\n",
      "        - /objects/obj_type_1/coords\n",
      "      - labels\n",
      "        - /objects/obj_type_1/labels\n",
      "      - map\n",
      "        - /objects/obj_type_1/map\n",
      "      - properties\n",
      "  - tracks\n",
      "    - obj_type_1\n",
      "      - LBEPR\n",
      "        - /tracks/obj_type_1/LBEPR\n",
      "      - dummies\n",
      "        - /tracks/obj_type_1/dummies\n",
      "      - fates\n",
      "        - /tracks/obj_type_1/fates\n",
      "      - map\n",
      "        - /tracks/obj_type_1/map\n",
      "      - tracks\n",
      "        - /tracks/obj_type_1/tracks\n"
     ]
    }
   ],
   "source": [
    "def print_structure(item, indent=0):\n",
    "    if isinstance(item, h5py.File) or isinstance(item, h5py.Group):\n",
    "        for key in item.keys():\n",
    "            print(\"  \" * indent + f\"- {key}\")\n",
    "            print_structure(item[key], indent + 1)\n",
    "    elif isinstance(item, h5py.Dataset):\n",
    "        print(\"  \" * indent + f\"- {item.name}\")\n",
    "\n",
    "print_structure(h5py.File(track_files[0], \"r\"), indent = 1)"
   ]
  },
  {
   "cell_type": "code",
   "execution_count": 196,
   "metadata": {},
   "outputs": [
    {
     "name": "stdout",
     "output_type": "stream",
     "text": [
      "999\n",
      "999\n",
      "999\n",
      "999\n",
      "999\n",
      "999\n",
      "999\n",
      "999\n",
      "999\n",
      "999\n",
      "999\n",
      "999\n",
      "999\n",
      "999\n",
      "999\n",
      "999\n",
      "999\n",
      "999\n",
      "999\n",
      "999\n",
      "999\n",
      "999\n",
      "999\n",
      "999\n",
      "999\n",
      "999\n",
      "999\n",
      "999\n",
      "999\n",
      "999\n",
      "999\n",
      "999\n",
      "999\n",
      "999\n",
      "999\n",
      "999\n",
      "999\n",
      "999\n",
      "999\n",
      "999\n",
      "999\n",
      "999\n",
      "999\n",
      "999\n",
      "999\n",
      "999\n",
      "999\n",
      "999\n",
      "999\n",
      "999\n",
      "999\n",
      "999\n",
      "999\n",
      "999\n",
      "999\n",
      "999\n",
      "999\n",
      "999\n",
      "999\n",
      "999\n",
      "999\n",
      "999\n",
      "999\n",
      "999\n",
      "999\n",
      "999\n",
      "999\n",
      "999\n",
      "999\n"
     ]
    }
   ],
   "source": [
    "for track_file in track_files:\n",
    "    with h5py.File(track_file, \"r\") as file:\n",
    "        open_column(\"/tracks/obj_type_1/fates\")\n",
    "        break"
   ]
  },
  {
   "cell_type": "code",
   "execution_count": 189,
   "metadata": {},
   "outputs": [],
   "source": [
    "def open_column(h5_column_path):\n",
    "  column_values = file[h5_column_path]\n",
    "  for row_index in range(column_values.shape[0]):\n",
    "      print(column_values[row_index])\n"
   ]
  }
 ],
 "metadata": {
  "kernelspec": {
   "display_name": "Python 3",
   "language": "python",
   "name": "python3"
  },
  "language_info": {
   "codemirror_mode": {
    "name": "ipython",
    "version": 3
   },
   "file_extension": ".py",
   "mimetype": "text/x-python",
   "name": "python",
   "nbconvert_exporter": "python",
   "pygments_lexer": "ipython3",
   "version": "3.9.6"
  }
 },
 "nbformat": 4,
 "nbformat_minor": 2
}
