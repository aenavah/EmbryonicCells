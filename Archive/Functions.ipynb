version https://git-lfs.github.com/spec/v1
oid sha256:8504e4aee92dc90ee161420f3823ff7dda6db16e48f0c503fe17ed726ccbaaf3
size 4977
