version https://git-lfs.github.com/spec/v1
oid sha256:e909dabb9c4ea94e4e7b7ea249ce888fd27aa7e400f4ad95a7e0c875c57d4226
size 22540
