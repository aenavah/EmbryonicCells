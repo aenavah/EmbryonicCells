{
 "cells": [
  {
   "cell_type": "code",
   "execution_count": 229,
   "metadata": {},
   "outputs": [],
   "source": [
    "import math \n",
    "import numpy as np\n",
    "import matplotlib.pyplot as plt\n",
    "import pandas as pd\n",
    "import random\n",
    "import seaborn as sns"
   ]
  },
  {
   "cell_type": "code",
   "execution_count": 230,
   "metadata": {},
   "outputs": [],
   "source": [
    "#Parameters\n",
    "env_r = 5\n",
    "num_cells = 2\n",
    "Tsim = 120 #number of minutes to run simulation\n",
    "dt = 10 # minutes between each simulation step \n",
    "N = int(Tsim/dt) # Number of iterations to run \n",
    "\n",
    "# labeling for cells \n",
    "num_cells_sp1 = 1 #number of cells in species 1\n",
    "num_cells_sp2 = 1 # number of cells in species 2\n",
    "cell_ids_1 = [\"o_\" + str(cell_id) for cell_id in range(num_cells_sp1)] # unique ids for each cell in species 1 with species identifier\n",
    "cell_ids_2 = [\"t_\" + str(cell_id) for cell_id in range(num_cells_sp2)] # unique ids for each cell in species 2 with species identifier\n",
    "cell_ids = cell_ids_1 + cell_ids_2\n",
    "species = [\"one\", \"two\"]\n",
    "\n",
    "#initialize angle \n",
    "cell_theta_init = [random.uniform(0, 360) for _ in range(len(cell_ids))]\n",
    "#initialize distance from origin\n",
    "cell_dist_init = [random.uniform(0, env_r) for _ in range(len(cell_ids))]\n",
    "\n",
    "coordinates = [calculate_cartesian_coords(theta, dist) for theta, dist in zip(cell_theta_init, cell_dist_init)]\n",
    "xs_init, ys_init = zip(*coordinates)\n",
    "\n",
    "df = pd.DataFrame({\n",
    "    'species': species,\n",
    "    'cell_ids': cell_ids,\n",
    "    't': [0] * len(cell_ids),\n",
    "    'x': xs_init,\n",
    "    'y': ys_init\n",
    "})"
   ]
  },
  {
   "cell_type": "code",
   "execution_count": 231,
   "metadata": {},
   "outputs": [],
   "source": [
    "def is_in_boundary(cell_position: list[int], r_env = 5):\n",
    "  '''\n",
    "  Parameters: \n",
    "  r: radius of defined region for cells\n",
    "  cell_position: list for a single cell with x and y position\n",
    "  Return: \n",
    "  true: within region\n",
    "  false: exited region\n",
    "  '''\n",
    "  x = cell_position[0]\n",
    "  y = cell_position[1]\n",
    "\n",
    "  if np.sqrt(x**2 + y**2) < r_env:\n",
    "    return True\n",
    "  else: \n",
    "    return False\n",
    "\n",
    "def calculate_cartesian_coords(theta, r):\n",
    "  cos = np.cos(theta)\n",
    "  sin = np.sin(theta)\n",
    "  x = cos*r\n",
    "  y = sin*r\n",
    "  return [x, y]\n",
    "\n",
    "def calculate_polar_coords(x, y):\n",
    "  r = np.sqrt(x**2 + y**2)\n",
    "  theta = np.arctan2(y, x)\n",
    "  return [theta, r]"
   ]
  },
  {
   "cell_type": "code",
   "execution_count": 232,
   "metadata": {},
   "outputs": [
    {
     "data": {
      "text/plain": [
       "[]"
      ]
     },
     "execution_count": 232,
     "metadata": {},
     "output_type": "execute_result"
    },
    {
     "data": {
      "image/png": "[encoded data removed]",
      "text/plain": [
       "<Figure size 640x480 with 1 Axes>"
      ]
     },
     "metadata": {},
     "output_type": "display_data"
    }
   ],
   "source": [
    "def sp_attracting(t, cell_ids: list[str], attraction_coefs: list[float]):\n",
    "  '''behavior of different species attracting/repelling'''\n",
    "\n",
    "  # cell ids and attraction to eachother\n",
    "  cell_sp1, cell_sp2 = cell_ids\n",
    "  coef_sp1, coef_sp2 = attraction_coefs  # Coefficients for sp1 -> sp2 and sp2 -> sp1\n",
    "  # angle of each from original, and distance from origin\n",
    "  x_sp1 = df.loc[(df['cell_ids'] == cell_sp1) & (df['t'] == t), 'x'].values[0]\n",
    "  y_sp1 = df.loc[(df['cell_ids'] == cell_sp1) & (df['t'] == t), 'y'].values[0]\n",
    "  x_sp2 = df.loc[(df['cell_ids'] == cell_sp2) & (df['t'] == t), 'x'].values[0]\n",
    "  y_sp2 = df.loc[(df['cell_ids'] == cell_sp2) & (df['t'] == t), 'y'].values[0]\n",
    "\n",
    "  #distance used for normalization\n",
    "  distance = np.sqrt((x_sp2 - x_sp1)**2 + (y_sp2 - y_sp1)**2)\n",
    "  # normalized direction vector from sp1 to sp2\n",
    "\n",
    "  x_direction_sp1 = (x_sp2 - x_sp1) / distance\n",
    "  y_direction_sp1 = (y_sp2 - y_sp1) / distance\n",
    "\n",
    "  x_direction_sp2 = (x_sp1 - x_sp2) / distance\n",
    "  y_direction_sp2 = (y_sp1 - y_sp2) / distance\n",
    "\n",
    "  #new coordinates \n",
    "  noise_std = 0.05\n",
    "  x_sp1_next = x_sp1 + coef_sp1 * x_direction_sp1 + np.random.normal(0, noise_std)\n",
    "  y_sp1_next = y_sp1 + coef_sp1 * y_direction_sp1 + np.random.normal(0, noise_std)\n",
    "  \n",
    "  if is_in_boundary([x_sp1_next, y_sp1_next]) == False: \n",
    "    x_sp1_next, y_sp1_next = x_sp1, y_sp1\n",
    "\n",
    "  x_sp2_next = x_sp2 + coef_sp2 * x_direction_sp2 + np.random.normal(0, noise_std)\n",
    "  y_sp2_next = y_sp2 + coef_sp2 * y_direction_sp2 + np.random.normal(0, noise_std)\n",
    "\n",
    "  if is_in_boundary([x_sp2_next, y_sp2_next]) == False: \n",
    "    x_sp2_next, y_sp2_next = x_sp2, y_sp2\n",
    "\n",
    "  return [x_sp1_next, y_sp1_next], [x_sp2_next, y_sp2_next]\n",
    "\n",
    "A1, A2 = [.1, .1]\n",
    "\n",
    "for i in range(0, N):\n",
    "  for cell_sp1 in cell_ids_1:\n",
    "    for cell_sp2 in cell_ids_2:\n",
    "      if i == 0:\n",
    "        x_sp1 = df.loc[(df['cell_ids'] == cell_sp1) & (df['t'] == i), 'x'].values[0]\n",
    "        y_sp1 = df.loc[(df['cell_ids'] == cell_sp1) & (df['t'] == i), 'y'].values[0]\n",
    "        x_sp2 = df.loc[(df['cell_ids'] == cell_sp2) & (df['t'] == i), 'x'].values[0]\n",
    "        y_sp2 = df.loc[(df['cell_ids'] == cell_sp2) & (df['t'] == i), 'y'].values[0]\n",
    "\n",
    "      [x_sp1_next, y_sp1_next], [x_sp2_next, y_sp2_next] = sp_attracting(i, [cell_sp1, cell_sp2], [A1, A2])  # cell from sp2 attracted to cell from sp1\n",
    "      df.loc[len(df)] = ({'cell_ids': cell_sp1, 't': i+1, 'x': x_sp1_next, 'y': y_sp1_next, \"species\": \"one\"})\n",
    "      df.loc[len(df)] = ({'cell_ids': cell_sp2, 't': i+1, 'x': x_sp2_next, 'y': y_sp2_next, \"species\": \"two\"})\n",
    "\n",
    "\n",
    "plt.axvline(0, linestyle = \"--\", color = \"lightgrey\")\n",
    "plt.axhline(0, linestyle = \"--\", color = \"lightgrey\")\n",
    "plt.xlim(-env_r, env_r)\n",
    "plt.ylim(-env_r, env_r)\n",
    "\n",
    "plt.xticks(fontsize = 14)\n",
    "plt.yticks(fontsize = 14)\n",
    "\n",
    "plt.xlabel(\"X Position\", fontsize = 18)\n",
    "plt.ylabel(\"Y Position\", fontsize = 18)\n",
    "\n",
    "sns.scatterplot(x = \"x\", y = \"y\", data = df, hue = \"species\", palette = \"pastel\")\n",
    "sns.scatterplot(data=df[df['t'] == 0], x='x', y='y',  marker= \"*\", color = \"black\", label='Initial', s = 80)\n",
    "sns.scatterplot(data=df[df['t'] == N], x='x', y='y', marker='x', color='black', label='Final', s = 80)\n",
    "\n",
    "plt.title(rf\"$(A_1, A_2)$ = ({A1}, {A2})\", fontsize = 18)\n",
    "\n",
    "plt.plot()\n",
    "#print(df.sort_values(by = [\"cell_ids\", \"t\"]))"
   ]
  }
 ],
 "metadata": {
  "kernelspec": {
   "display_name": "Python 3",
   "language": "python",
   "name": "python3"
  },
  "language_info": {
   "codemirror_mode": {
    "name": "ipython",
    "version": 3
   },
   "file_extension": ".py",
   "mimetype": "text/x-python",
   "name": "python",
   "nbconvert_exporter": "python",
   "pygments_lexer": "ipython3",
   "version": "3.9.6"
  }
 },
 "nbformat": 4,
 "nbformat_minor": 2
}
